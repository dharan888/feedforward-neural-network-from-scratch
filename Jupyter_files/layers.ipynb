{
 "cells": [
  {
   "cell_type": "code",
   "execution_count": 1,
   "id": "a37ca7fd",
   "metadata": {},
   "outputs": [
    {
     "ename": "NameError",
     "evalue": "name 'denseLayer' is not defined",
     "output_type": "error",
     "traceback": [
      "\u001b[1;31m---------------------------------------------------------------------------\u001b[0m",
      "\u001b[1;31mNameError\u001b[0m                                 Traceback (most recent call last)",
      "\u001b[1;32m~\\AppData\\Local\\Temp/ipykernel_31768/1185379627.py\u001b[0m in \u001b[0;36m<module>\u001b[1;34m\u001b[0m\n\u001b[0;32m     63\u001b[0m         \u001b[1;32mreturn\u001b[0m \u001b[0minput_error\u001b[0m\u001b[1;33m\u001b[0m\u001b[1;33m\u001b[0m\u001b[0m\n\u001b[0;32m     64\u001b[0m \u001b[1;33m\u001b[0m\u001b[0m\n\u001b[1;32m---> 65\u001b[1;33m \u001b[1;32mclass\u001b[0m \u001b[0mregLayer\u001b[0m\u001b[1;33m(\u001b[0m\u001b[0mdenseLayer\u001b[0m\u001b[1;33m)\u001b[0m\u001b[1;33m:\u001b[0m\u001b[1;33m\u001b[0m\u001b[1;33m\u001b[0m\u001b[0m\n\u001b[0m\u001b[0;32m     66\u001b[0m     \u001b[1;31m# predict output for given input\u001b[0m\u001b[1;33m\u001b[0m\u001b[1;33m\u001b[0m\u001b[0m\n\u001b[0;32m     67\u001b[0m     \u001b[1;32mdef\u001b[0m \u001b[0mestimate_loss\u001b[0m\u001b[1;33m(\u001b[0m\u001b[0my_true\u001b[0m\u001b[1;33m,\u001b[0m\u001b[0my_pred\u001b[0m\u001b[1;33m)\u001b[0m\u001b[1;33m:\u001b[0m\u001b[1;33m\u001b[0m\u001b[1;33m\u001b[0m\u001b[0m\n",
      "\u001b[1;31mNameError\u001b[0m: name 'denseLayer' is not defined"
     ]
    }
   ],
   "source": [
    "import numpy as np\n",
    "from activation_functions import activation, derivative\n",
    "\n",
    "class fcLayer:\n",
    "    # input_size = number of input neurons\n",
    "    # output_size = number of output neurons\n",
    "    def __init__(self, input_size, output_size,act_fn):\n",
    "        self.weights = np.random.rand(output_size,input_size)*np.sqrt(1/output_size)\n",
    "        self.bias = np.zeros((output_size,1))\n",
    "        self.act_fn = act_fn\n",
    "\n",
    "    # feedword\n",
    "    def feedforward(self, input_data):\n",
    "        self.input = input_data\n",
    "        z = np.matmul(self.weights,self.input) + self.bias\n",
    "        self.output = activation(z,self.act_fn)\n",
    "        return self.output\n",
    "\n",
    "    # backpropogation\n",
    "    def backpropogate(self, output_error, learning_rate):\n",
    "        output_error = derivative(self.input,self.act_fn)*output_error\n",
    "        input_error = np.matmul(self.weights.T, output_error)\n",
    "        weights_error = np.matmul(output_error,self.input.T)\n",
    "\n",
    "        # update parameters\n",
    "        self.weights -= learning_rate * weights_error\n",
    "        self.bias -= learning_rate * output_error\n",
    "        return input_error\n",
    "    \n",
    "class classLayer:\n",
    "    # input_size = number of input neurons\n",
    "    # output_size = number of output neurons\n",
    "    def __init__(self, input_size, output_size):\n",
    "        self.weights = np.random.rand(output_size,input_size)*np.sqrt(1/output_size)\n",
    "        self.bias = np.zeros((output_size,1))\n",
    "        \n",
    "    # predict output for given input\n",
    "    def estimate_loss(y_true,y_pred):\n",
    "        size  = y_true.shape[0]\n",
    "        if size == 1:\n",
    "            loss  = - np.sum(np.log(y_pred)*y_true + np.log(1-y_pred)*(1-y_true))\n",
    "        else:\n",
    "            loss  = - np.reduce_sum(np.log(y_pred)*y_true)\n",
    "        error = np.mean(y_pred-y_true, axis=1)\n",
    "        return loss, error\n",
    "\n",
    "    # feedword\n",
    "    def feedforward(self, input_data):\n",
    "        self.input = input_data\n",
    "        z = np.matmul(self.input, self.weights) + self.bias\n",
    "        z = exp(z)\n",
    "        self.output = z/sum(z,axis=0)\n",
    "        return self.output\n",
    "\n",
    "    # backpropogation\n",
    "    def backpropogate(self, output_error, learning_rate):\n",
    "        input_error = np.matmul(self.weights.T, output_error)\n",
    "        weights_error = np.matmul(output_error,self.input.T)\n",
    "\n",
    "        # update parameters\n",
    "        self.weights -= learning_rate * weights_error\n",
    "        self.bias -= learning_rate * output_error\n",
    "        return input_error\n",
    "    \n",
    "class regLayer(fcLayer):\n",
    "    # predict output for given input\n",
    "    def estimate_loss(y_true,y_pred):\n",
    "        loss  = 0.5*np.sum(np.mean((y_true-y_pred)**2,axis=0));\n",
    "        error = np.mean(y_pred-y_true, axis=1)\n",
    "        return loss, error"
   ]
  }
 ],
 "metadata": {
  "kernelspec": {
   "display_name": "Python 3 (ipykernel)",
   "language": "python",
   "name": "python3"
  },
  "language_info": {
   "codemirror_mode": {
    "name": "ipython",
    "version": 3
   },
   "file_extension": ".py",
   "mimetype": "text/x-python",
   "name": "python",
   "nbconvert_exporter": "python",
   "pygments_lexer": "ipython3",
   "version": "3.9.7"
  }
 },
 "nbformat": 4,
 "nbformat_minor": 5
}
